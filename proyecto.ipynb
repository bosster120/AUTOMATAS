{
  "nbformat": 4,
  "nbformat_minor": 0,
  "metadata": {
    "colab": {
      "name": "proyecto.ipynb",
      "provenance": [],
      "collapsed_sections": []
    },
    "kernelspec": {
      "name": "python3",
      "display_name": "Python 3"
    },
    "language_info": {
      "name": "python"
    }
  },
  "cells": [
    {
      "cell_type": "markdown",
      "source": [
        "#Integrantes\n",
        "Juan esreban tabares Pacheco -  2191712\n",
        "ASHLEY MICHELLE CALDERON VILLAMIZAR – 2162101"
      ],
      "metadata": {
        "id": "2gs3mT51l8NQ"
      }
    },
    {
      "cell_type": "markdown",
      "source": [
        "# Codigo del automata"
      ],
      "metadata": {
        "id": "4uw-1qtgmfe3"
      }
    },
    {
      "cell_type": "code",
      "execution_count": 2,
      "metadata": {
        "colab": {
          "base_uri": "https://localhost:8080/"
        },
        "id": "PJ-dAofZQoXV",
        "outputId": "4d1f345b-2d4b-473f-d91b-f4f9dd3217e8"
      },
      "outputs": [
        {
          "output_type": "stream",
          "name": "stdout",
          "text": [
            "Mounted at /content/drive\n",
            "[Errno 2] No such file or directory: 'drive/My Drive/automatas-uis-student/notebooks'\n",
            "/content\n",
            "/content\n"
          ]
        }
      ],
      "source": [
        "from google.colab import drive\n",
        "drive.mount('/content/drive')\n",
        "%cd drive/My Drive/automatas-uis-student/notebooks\n",
        "!pwd"
      ]
    },
    {
      "cell_type": "code",
      "source": [
        "!pip install automata-lib==1.0.0.post4"
      ],
      "metadata": {
        "colab": {
          "base_uri": "https://localhost:8080/"
        },
        "id": "8H0eVgHGQuT4",
        "outputId": "28585a30-1814-4dd6-abde-7c77cd3e7522"
      },
      "execution_count": 3,
      "outputs": [
        {
          "output_type": "stream",
          "name": "stdout",
          "text": [
            "Collecting automata-lib==1.0.0.post4\n",
            "  Downloading automata-lib-1.0.0.post4.tar.gz (11 kB)\n",
            "Building wheels for collected packages: automata-lib\n",
            "  Building wheel for automata-lib (setup.py) ... \u001b[?25l\u001b[?25hdone\n",
            "  Created wheel for automata-lib: filename=automata_lib-1.0.0.post4-py3-none-any.whl size=13312 sha256=e02f0ea376ead025d2949b2088d86320eb3518a6d3597f6731481fd3af51ba7b\n",
            "  Stored in directory: /root/.cache/pip/wheels/96/2f/27/40b605b129cb6410b34fd325d9e491ff88c1f3e8d8dfcedc64\n",
            "Successfully built automata-lib\n",
            "Installing collected packages: automata-lib\n",
            "Successfully installed automata-lib-1.0.0.post4\n"
          ]
        }
      ]
    },
    {
      "cell_type": "code",
      "source": [
        "from automata.fa.dfa import DFA\n",
        "dfa1 = DFA(\n",
        "    states={'q0', 'q1','q4', 'q6', 'q7','q9', 'q10', 'q11', 'q12', 'q13', 'q14', 'q15', 'q16',\n",
        "            'q17', 'q18', 'q19', 'q20', 'q21', 'q22', 'q23', 'q24', 'q25', 'q26', 'q27', 'q28'},\n",
        "    input_symbols={'a','b','c'},\n",
        "    transitions={\n",
        "        'q0': {'a': 'q1', 'b': 'q4', 'c': 'q0'},\n",
        "        'q1': {'a': 'q9', 'b': 'q10', 'c': 'q0'},\n",
        "        'q4': {'a': 'q6', 'b': 'q7', 'c' : 'q0'},\n",
        "        'q6': {'a': 'q0', 'b': 'q0', 'c': 'q0'},\n",
        "        'q7': {'a': 'q0', 'b': 'q0', 'c': 'q0'},\n",
        "        'q9': {'a': 'q0', 'b': 'q0', 'c': 'q0'},\n",
        "        'q10': {'a': 'q11', 'b': 'q12', 'c' : 'q13'},\n",
        "        'q11': {'a': 'q17', 'b': 'q14','c': 'q0'},\n",
        "        'q12': {'a': 'q0', 'b': 'q0', 'c': 'q0'},\n",
        "        'q13': {'a': 'q24', 'b': 'q22','c': 'q0'},\n",
        "        'q14': {'a': 'q15','b': 'q0','c': 'q0'},\n",
        "        'q15': {'a': 'q16','b': 'q0','c': 'q0'},\n",
        "        'q16': {'a': 'q0', 'b': 'q0', 'c': 'q0'},\n",
        "        'q17': {'a': 'q18', 'b': 'q20','c': 'q0'},\n",
        "        'q18': {'a': 'q19','b': 'q0','c': 'q0'},\n",
        "        'q19': {'a': 'q0', 'b': 'q0', 'c': 'q0'},\n",
        "        'q20': {'a': 'q21','b': 'q0','c': 'q0'},\n",
        "        'q21': {'a': 'q0', 'b': 'q0', 'c': 'q0'},\n",
        "        'q22': {'a': 'q23','b': 'q23','c': 'q23'},\n",
        "        'q23': {'a': 'q0', 'b': 'q0', 'c': 'q0'},\n",
        "        'q24': {'a': 'q25', 'b': 'q27','c': 'q0'},\n",
        "        'q25': {'a': 'q26','b': 'q0','c': 'q0'},\n",
        "        'q26': {'a': 'q0', 'b': 'q0', 'c': 'q0'},\n",
        "        'q27': {'a': 'q28','b': 'q0','c': 'q0'},\n",
        "        'q28': {'a': 'q0', 'b': 'q0', 'c': 'q0'},\n",
        "    },\n",
        "    initial_state='q0',\n",
        "    final_states= {'q6', 'q7', 'q9', 'q12', 'q16', 'q19', 'q21', 'q23', 'q26', 'q28'}\n",
        "\n",
        ")"
      ],
      "metadata": {
        "id": "XZb38AhaQuwF"
      },
      "execution_count": 7,
      "outputs": []
    },
    {
      "cell_type": "markdown",
      "source": [
        "# Codigo del juego\n"
      ],
      "metadata": {
        "id": "XEb7y7Atmlnx"
      }
    },
    {
      "cell_type": "code",
      "source": [
        "print(\"Bienvenido al JUEGO DE SUPERVIVENCIA\")\n",
        "print(\"aqui se pondra a prueba sus capacidades de aprendizaje sobre errores y las capacidades estrategicas\")\n",
        "print(\"comencemos de una vez\")\n",
        "print(\"la situacion es la siguiente, estas atrapado en un pequeño edificio y no tiene parqueadero\")\n",
        "print(\"hay una amenza desconocida, humanoide y agresiva contra los humanos\")\n",
        "print(\"que decides hacer?\")\n",
        "print(\" a) salir,para intentar escapar. / b) esperar en casa un tiempo\")\n",
        "rta1 = str ( input ( ) )\n",
        "if (rta1 == 'b'):\n",
        "  print(\"decides quedarte un tiempo, esperando rescate o zona de evacuacion\")\n",
        "  print(\"dejas que pase el tiempo e intentas estar atento de las noticias \")\n",
        "  print(\"ya te quedaste casi sin comida, planeas salir a buscar un poco o quedarte hasta que te quedes sin.\")\n",
        "  print(\"a) Buscar mas comida para seguri en tu casa. / b) Aguantara hasta quedarte sin mas\")\n",
        "  rta6 = str ( input ( ) )\n",
        "  if(rta6 == 'a'):\n",
        "    print(\"dicen que con el tiempo las tormentas terminan, pero esta no\")\n",
        "    print(\"al salir solo encontraste un diluvio, si entiendo a lo que me refiero amigo.\")\n",
        "    palabra = rta1 + rta6\n",
        "  if(rta6 == 'b'):\n",
        "    print(\"hay un dicho que dice,'dale a algo tiempo y dedicacion y lograra lo que sea'\")\n",
        "    print(\"bueno digamos que antes era un hombre, digamos que esas cosas tenian ambos\")\n",
        "    print(\"y te terminaron encontrando.\")\n",
        "    palabra = rta1 + rta6\n",
        "if (rta1 == 'a'):\n",
        "  print(\"ya en la calle, decides explorar los entornos para encontrar algun medio de trasporte o forma de salir\")\n",
        "  print(\"a) correr como loco hasta encontrarlo. / b) ir con la mayor calma posible\")\n",
        "  rta2 = str ( input ( ) )\n",
        "  if (rta2 == 'a'):\n",
        "    print(\"No se si olvidaste que alguien corriendo es mas ruidoso que alguien caminando\")\n",
        "    print(\"pero bueno, cuando te estaban persigiendo unos 5 de esos bichos lo recordaste\")\n",
        "    print(\"lastima que no lo recordaras por mucho.\")\n",
        "    palabra = rta1 + rta2\n",
        "  if (rta2 == 'b'):\n",
        "    print(\"avanzaste unas cuantas calles, muchos caminos bloqueados\")\n",
        "    print(\"pero al fin encontrsate 2 caminos libres, pero ¿que decides hacer?\")\n",
        "    print(\"a) izquierda. / b) seguir de frente. / c) derecha\")\n",
        "    rta3 = str ( input ( ) )\n",
        "    if(rta3 == 'a'):\n",
        "      print(\"avistas a lo lejos una persona armada, tal vez sea un soldado\")\n",
        "      print(\"pero tambien a tu izquierda esta el camino despejado.\")\n",
        "      print(\"a) ir con el sujeto. / b) izquierda\")\n",
        "      rta4 = str ( input ( ) )\n",
        "      if(rta4 == 'a'):\n",
        "        print(\"resulta que si era un soldado, eran varios soldados\")\n",
        "        print(\"estas muy feliz, al fin una oportunidad de escapar\")\n",
        "        print(\"puedes escabullirte hasta ellos y te ayuden o correr como lo a ellos.\")\n",
        "        print(\"a) Escabullirte / b) correr\")\n",
        "        rta5 = str ( input ( ) )\n",
        "        if(rta5 == 'a'):\n",
        "          rta6 = str ('a')\n",
        "          print(\"decides escabullirte hasta llegar a donde estan los soldados\")\n",
        "          print(\"logras estar casi ahi, pero uno de esos bichos te encontro\")\n",
        "          print(\"ante tus ojos ese bicho recibe unas cuantas rafagas de disparos y se derrumba\")\n",
        "          print(\"un soldado te levanta y te lleva a un lugar seguro\")\n",
        "          print(\"felicidades Has Sobrevivido.\")\n",
        "          palabra = rta1 + rta2 + rta3 + rta4 + rta5 + rta6\n",
        "        if(rta5 == 'b'):\n",
        "          rta6 = str ('a')\n",
        "          print(\"tal vez la idea era correr en medio de un tiroteo como en las pelis\")\n",
        "          print(\"pero esto no es una peli amiguito, asi que... bueno ya entiendes\")\n",
        "          print(\"y suponiendo que no te dieran, aun asi, digamos que no tienes la velocidad\")\n",
        "          print(\"para ir mas rapido que esos bichos a tu espalda y no son pocos, asi que, bueno\")\n",
        "          print(\"moriste.\")\n",
        "          palabra = rta1 + rta2 + rta3 + rta4 + rta5 + rta6\n",
        "    if(rta3 == 'b'):\n",
        "      print(\"seguiste avanzando, el caos es solo deja calles cerradas y carros inservibles\")\n",
        "      print(\"una presencia y sed de sangre se posicionan detras de ti\")\n",
        "      print(\"empiezas a correr, y bueno, digamos que no es muy lejos lo que puedes llegar.\")\n",
        "      palabra = rta1 + rta2 + rta3\n",
        "    if(rta3 == 'c'):\n",
        "      print(\"nuevamente se te presentan 2 caminos\")\n",
        "      print(\"bajar o subir, izquierda o derecha, ¿que quieres hacer?\")\n",
        "      print(\"a) izquierda / b) derecha\")\n",
        "      rta4 = str ( input ( ) )\n",
        "      if(rta4 == 'a'):\n",
        "        print(\"despues de mucho caminar y robar algunas cosas de algunas tiendas\")\n",
        "        print(\"encuentras un carro y parece que no abre la puerta principal\")\n",
        "        print(\"que prefieres hacer, romper el cristal o intentar abrirlo desde otras puertas\")\n",
        "        print(\"a) romper el cristal / b) buscar otras maneras de abrirlo\")\n",
        "        rta5 = str ( input ( ) )\n",
        "        if(rta5 == 'a'):\n",
        "          rta6 = str('a')\n",
        "          print(\"que buena idea amigo, romper un vidrio de un carro con alarma\")\n",
        "          print(\"ahora toda china sabe que estas aqui, o algo asi decia la frase\")\n",
        "          print(\"en fin, que hacer eso fue tocar la campana para la cena\")\n",
        "          print(\"y tu eres la cena.\")\n",
        "          palabra = rta1 + rta2 + rta3 + rta4 + rta5 + rta6\n",
        "        if(rta5 == 'b'):\n",
        "          rta6 = str('b')\n",
        "          print(\"buscando otras maneras de entrar te encuentras una escena horrible\")\n",
        "          print(\"pero a la vez esperanzadora, es un hombre muerto\")\n",
        "          print(\"del otro lado del carro, y aunque paresca algo malo, encuentras las llaves\")\n",
        "          print(\"del carro en su mano, que mal por el, pero que bien por ti\")\n",
        "          print(\"alarma apagada, carro prendido y radio para escuchar musica\")\n",
        "          print(\"pero en bajo volumen, no queremos alertar a esos bichos\")\n",
        "          print(\"FELICIDADES, ESCAPASTE\")\n",
        "          palabra = rta1 + rta2 + rta3 + rta4 + rta5 + rta6\n",
        "      if(rta4 == 'b'):\n",
        "        rta5 = str('a')\n",
        "        print(\"no se si tenias el mapa mental en tu cabeza o simplemente te distrajiste\")\n",
        "        print(\"pero acabasde hacer justo 2 cosas mal\")\n",
        "        print(\"1. regresarte\")\n",
        "        print(\"2. regresarte por un lugar que no habias pasado\")\n",
        "        print(\"en fin, que fueron tur primeor y ultimos erros en esta travecia\")\n",
        "        \n"
      ],
      "metadata": {
        "id": "AF-j8PN3Q0W-",
        "colab": {
          "base_uri": "https://localhost:8080/"
        },
        "outputId": "d65065b7-6bd1-4e30-d44e-8e7c361822e1"
      },
      "execution_count": 5,
      "outputs": [
        {
          "output_type": "stream",
          "name": "stdout",
          "text": [
            "Bienvenido al JUEGO DE SUPERVIVENCIA\n",
            "aqui se pondra a prueba sus capacidades de aprendizaje sobre errores y las capacidades estrategicas\n",
            "comencemos de una vez\n",
            "la situacion es la siguiente, estas atrapado en un pequeño edificio y no tiene parqueadero\n",
            "hay una amenza desconocida, humanoide y agresiva contra los humanos\n",
            "que decides hacer?\n",
            " a) salir,para intentar escapar. / b) esperar en casa un tiempo\n",
            "b\n",
            "decides quedarte un tiempo, esperando rescate o zona de evacuacion\n",
            "dejas que pase el tiempo e intentas estar atento de las noticias \n",
            "ya te quedaste casi sin comida, planeas salir a buscar un poco o quedarte hasta que te quedes sin.\n",
            "a) Buscar mas comida para seguri en tu casa. / b) Aguantara hasta quedarte sin mas\n",
            "a\n",
            "dicen que con el tiempo las tormentas terminan, pero esta no\n",
            "al salir solo encontraste un diluvio, si entiendo a lo que me refiero amigo.\n"
          ]
        }
      ]
    },
    {
      "cell_type": "markdown",
      "source": [
        "# Comprobar que todo esta correcto y si termina en estado de aceptacion"
      ],
      "metadata": {
        "id": "VetGuoD9mtxm"
      }
    },
    {
      "cell_type": "code",
      "source": [
        "#esta casilla sirve para comprobar que la cadena si es correcta y lleva a un estado de aceptacion\n",
        "def checker(cadena,DFA):\n",
        "    try:\n",
        "        DFA.validate_input(cadena)\n",
        "        return \"No hay problema alguno, la cadena es aceptada. Puede continuar\"\n",
        "    except Exception as e:\n",
        "        print(\"Entrada no valida, posiblemente no respondió las preguntas con las respectivas opciones: \\n\", e)  \n",
        "    \n",
        "checker(palabra,dfa1)  "
      ],
      "metadata": {
        "colab": {
          "base_uri": "https://localhost:8080/",
          "height": 35
        },
        "id": "4_0eXNrpEpY-",
        "outputId": "5ee1eac4-3706-4bb8-903c-743aab0161e0"
      },
      "execution_count": 6,
      "outputs": [
        {
          "output_type": "execute_result",
          "data": {
            "text/plain": [
              "'No hay problema alguno, la cadena es aceptada. Puede continuar'"
            ],
            "application/vnd.google.colaboratory.intrinsic+json": {
              "type": "string"
            }
          },
          "metadata": {},
          "execution_count": 6
        }
      ]
    }
  ]
}